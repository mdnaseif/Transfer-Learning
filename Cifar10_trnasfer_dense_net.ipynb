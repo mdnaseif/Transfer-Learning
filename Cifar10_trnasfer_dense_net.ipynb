{
  "nbformat": 4,
  "nbformat_minor": 0,
  "metadata": {
    "colab": {
      "provenance": []
    },
    "kernelspec": {
      "name": "python3",
      "display_name": "Python 3"
    },
    "language_info": {
      "name": "python"
    },
    "accelerator": "GPU",
    "gpuClass": "standard"
  },
  "cells": [
    {
      "cell_type": "code",
      "execution_count": 13,
      "metadata": {
        "id": "4ZGfGfI7EHnE",
        "colab": {
          "base_uri": "https://localhost:8080/"
        },
        "outputId": "f7095db0-882a-4a7f-dc47-e8fc1f06f818"
      },
      "outputs": [
        {
          "output_type": "stream",
          "name": "stdout",
          "text": [
            "Downloading data from https://storage.googleapis.com/tensorflow/keras-applications/densenet/densenet201_weights_tf_dim_ordering_tf_kernels_notop.h5\n",
            "74836368/74836368 [==============================] - 6s 0us/step\n"
          ]
        }
      ],
      "source": [
        "from tensorflow.keras.applications import DenseNet201\n",
        "transfer_model = DenseNet201(weights='imagenet',include_top = False,input_shape=(224,224,3))\n",
        "\n",
        "#top = false meant i only need layers without output one\n",
        "#input_shape rather tahn upscale our cifar we told the model that we will give you images from this size\n",
        "#\"vgg16\" --> 224x224"
      ]
    },
    {
      "cell_type": "code",
      "source": [
        "transfer_model.summary()"
      ],
      "metadata": {
        "id": "PBvHGZ5WEfhE"
      },
      "execution_count": null,
      "outputs": []
    },
    {
      "cell_type": "code",
      "source": [
        "import tensorflow as tf\n",
        "from tensorflow.keras import datasets, layers, models\n",
        "import matplotlib.pyplot as plt\n",
        "import numpy as np\n",
        "import numpy as np\n",
        "from tensorflow import keras "
      ],
      "metadata": {
        "id": "FaGELK7mHBAD"
      },
      "execution_count": 14,
      "outputs": []
    },
    {
      "cell_type": "code",
      "source": [
        "(X_train, y_train),(X_test,y_test) = datasets.cifar10.load_data()"
      ],
      "metadata": {
        "id": "lo-9CaFoJiv1"
      },
      "execution_count": 41,
      "outputs": []
    },
    {
      "cell_type": "code",
      "source": [
        "X_train = np.array(X_train, dtype='float')/255.0 # norm to [0,1]\n",
        "y_train = np.array(y_train, dtype='short')\n",
        "X_test = np.array(X_test, dtype='float')/255.0 # norm to [0,1]\n",
        "y_test = np.array(y_test, dtype='short')\n",
        "\n",
        "print(X_train.shape, y_train.shape, X_test.shape, y_test.shape)"
      ],
      "metadata": {
        "colab": {
          "base_uri": "https://localhost:8080/"
        },
        "id": "a_6-cHr2JkPk",
        "outputId": "c3994e9f-4329-4ea1-a2be-612a8bac1501"
      },
      "execution_count": 42,
      "outputs": [
        {
          "output_type": "stream",
          "name": "stdout",
          "text": [
            "(50000, 32, 32, 3) (50000, 1) (10000, 32, 32, 3) (10000, 1)\n"
          ]
        }
      ]
    },
    {
      "cell_type": "code",
      "source": [
        "from tensorflow.keras import utils\n",
        "\n",
        "\n",
        "\n",
        "#reshape each input vector (784) into a 28*28*1 image \n",
        "X_train = np.reshape(X_train, (-1,32,32,3)) \n",
        "X_test = np.reshape(X_test, (-1,32,32,3))\n",
        "\n",
        "\n",
        "# convert MNIST labels into 10-D one-hot vectors - upper-case label y\n",
        "y_train = utils.to_categorical(y_train, 10)\n",
        "y_test = utils.to_categorical(y_test, 10)\n",
        "\n",
        "\n",
        "print(X_train.shape, y_train.shape, X_test.shape, y_test.shape)"
      ],
      "metadata": {
        "colab": {
          "base_uri": "https://localhost:8080/"
        },
        "id": "4WzZJI35JkMB",
        "outputId": "cf08a31a-8631-43a4-cff4-8f1c65d6b7a4"
      },
      "execution_count": 43,
      "outputs": [
        {
          "output_type": "stream",
          "name": "stdout",
          "text": [
            "(50000, 32, 32, 3) (50000, 10) (10000, 32, 32, 3) (10000, 10)\n"
          ]
        }
      ]
    },
    {
      "cell_type": "markdown",
      "source": [
        "Note that there is no dense layer in the summary"
      ],
      "metadata": {
        "id": "Nynm9hdmFWZi"
      }
    },
    {
      "cell_type": "code",
      "source": [
        "model = keras.models.Sequential()\n",
        "model.add(keras.layers.UpSampling2D(size=(7,7)))\n",
        "model.add(transfer_model)\n",
        "model.add(keras.layers.GlobalAveragePooling2D())\n",
        "model.add(keras.layers.Dense(256,activation='relu'))\n",
        "model.add(keras.layers.Dropout(0.25))\n",
        "model.add(keras.layers.BatchNormalization())\n",
        "model.add(keras.layers.Dense(10,activation='softmax'))\n",
        "\n",
        "# compile model by attaching with loss/optimizer/metric\n",
        "model.compile(loss=\"categorical_crossentropy\",\n",
        "              optimizer='Adam',\n",
        "              metrics=[\"accuracy\"])\n",
        "\n",
        "# learning a model\n",
        "history = model.fit(X_train, y_train, epochs=10,validation_data=(X_test, y_test))"
      ],
      "metadata": {
        "colab": {
          "base_uri": "https://localhost:8080/"
        },
        "id": "sllzmlD6FN81",
        "outputId": "d86afa93-a5da-4a11-d61d-8a14183766db"
      },
      "execution_count": 18,
      "outputs": [
        {
          "output_type": "stream",
          "name": "stdout",
          "text": [
            "Epoch 1/10\n",
            "1563/1563 [==============================] - 978s 608ms/step - loss: 0.6979 - accuracy: 0.7653 - val_loss: 0.5983 - val_accuracy: 0.8006\n",
            "Epoch 2/10\n",
            "1563/1563 [==============================] - 899s 575ms/step - loss: 0.4163 - accuracy: 0.8602 - val_loss: 0.4981 - val_accuracy: 0.8358\n",
            "Epoch 3/10\n",
            "1563/1563 [==============================] - 898s 574ms/step - loss: 0.3364 - accuracy: 0.8873 - val_loss: 0.4461 - val_accuracy: 0.8578\n",
            "Epoch 4/10\n",
            "1563/1563 [==============================] - 896s 573ms/step - loss: 0.2824 - accuracy: 0.9030 - val_loss: 0.3543 - val_accuracy: 0.8855\n",
            "Epoch 5/10\n",
            "1563/1563 [==============================] - 896s 573ms/step - loss: 0.2342 - accuracy: 0.9204 - val_loss: 0.3929 - val_accuracy: 0.8765\n",
            "Epoch 6/10\n",
            "1563/1563 [==============================] - 935s 598ms/step - loss: 0.1959 - accuracy: 0.9340 - val_loss: 0.3562 - val_accuracy: 0.8888\n",
            "Epoch 7/10\n",
            "1563/1563 [==============================] - 934s 598ms/step - loss: 0.1674 - accuracy: 0.9433 - val_loss: 0.4275 - val_accuracy: 0.8685\n",
            "Epoch 8/10\n",
            "1563/1563 [==============================] - 893s 572ms/step - loss: 0.1463 - accuracy: 0.9507 - val_loss: 0.2688 - val_accuracy: 0.9159\n",
            "Epoch 9/10\n",
            "1563/1563 [==============================] - 893s 572ms/step - loss: 0.1204 - accuracy: 0.9575 - val_loss: 0.3164 - val_accuracy: 0.9014\n",
            "Epoch 10/10\n",
            "1563/1563 [==============================] - 933s 597ms/step - loss: 0.1059 - accuracy: 0.9642 - val_loss: 0.2882 - val_accuracy: 0.9122\n"
          ]
        }
      ]
    },
    {
      "cell_type": "code",
      "source": [
        "from sklearn.metrics import confusion_matrix , classification_report\n",
        "import numpy as np \n",
        "y_test=np.argmax(y_test, axis=1)\n",
        "y_pred = model.predict(X_test)\n",
        "y_pred_classes = [np.argmax(element)for element in y_pred]\n",
        "X_test.shape\n",
        "\n",
        "\n",
        "\n",
        "\n",
        "# 2\n",
        "print(\"Your report Sir:  \\n\",classification_report(y_test,y_pred_classes))"
      ],
      "metadata": {
        "id": "09O9SJaOKKqT",
        "colab": {
          "base_uri": "https://localhost:8080/"
        },
        "outputId": "3cdd73b3-caa8-4aba-a168-a19b4b7b82e8"
      },
      "execution_count": 44,
      "outputs": [
        {
          "output_type": "stream",
          "name": "stdout",
          "text": [
            "313/313 [==============================] - 42s 135ms/step\n",
            "Your report Sir:  \n",
            "               precision    recall  f1-score   support\n",
            "\n",
            "           0       0.89      0.96      0.92      1000\n",
            "           1       0.96      0.96      0.96      1000\n",
            "           2       0.88      0.91      0.90      1000\n",
            "           3       0.82      0.85      0.84      1000\n",
            "           4       0.95      0.88      0.91      1000\n",
            "           5       0.81      0.89      0.85      1000\n",
            "           6       0.96      0.93      0.95      1000\n",
            "           7       0.98      0.88      0.93      1000\n",
            "           8       0.97      0.91      0.94      1000\n",
            "           9       0.93      0.95      0.94      1000\n",
            "\n",
            "    accuracy                           0.91     10000\n",
            "   macro avg       0.92      0.91      0.91     10000\n",
            "weighted avg       0.92      0.91      0.91     10000\n",
            "\n"
          ]
        }
      ]
    },
    {
      "cell_type": "code",
      "source": [
        "model.summary()"
      ],
      "metadata": {
        "colab": {
          "base_uri": "https://localhost:8080/"
        },
        "id": "4rG8_LJkTAvl",
        "outputId": "ba8dcc60-ec8e-4edb-e521-0e4f244e6902"
      },
      "execution_count": 26,
      "outputs": [
        {
          "output_type": "stream",
          "name": "stdout",
          "text": [
            "Model: \"sequential_2\"\n",
            "_________________________________________________________________\n",
            " Layer (type)                Output Shape              Param #   \n",
            "=================================================================\n",
            " up_sampling2d_2 (UpSampling  (None, 224, 224, 3)      0         \n",
            " 2D)                                                             \n",
            "                                                                 \n",
            " densenet201 (Functional)    (None, 7, 7, 1920)        18321984  \n",
            "                                                                 \n",
            " global_average_pooling2d_2   (None, 1920)             0         \n",
            " (GlobalAveragePooling2D)                                        \n",
            "                                                                 \n",
            " dense_4 (Dense)             (None, 256)               491776    \n",
            "                                                                 \n",
            " dropout_2 (Dropout)         (None, 256)               0         \n",
            "                                                                 \n",
            " batch_normalization_2 (Batc  (None, 256)              1024      \n",
            " hNormalization)                                                 \n",
            "                                                                 \n",
            " dense_5 (Dense)             (None, 10)                2570      \n",
            "                                                                 \n",
            "=================================================================\n",
            "Total params: 18,817,354\n",
            "Trainable params: 18,587,786\n",
            "Non-trainable params: 229,568\n",
            "_________________________________________________________________\n"
          ]
        }
      ]
    },
    {
      "cell_type": "code",
      "source": [
        "# show the learning curves \n",
        "import pandas as pd\n",
        "import matplotlib.pyplot as plt\n",
        "\n",
        "pd.DataFrame(history.history).plot(figsize=(8, 5))\n",
        "plt.grid(True)\n",
        "plt.gca().set_ylim(0, 1)\n",
        "plt.show()"
      ],
      "metadata": {
        "colab": {
          "base_uri": "https://localhost:8080/",
          "height": 324
        },
        "id": "OwWK-lpPWjjb",
        "outputId": "62cd6652-77d8-4e79-dc62-5059a766b655"
      },
      "execution_count": 27,
      "outputs": [
        {
          "output_type": "display_data",
          "data": {
            "text/plain": [
              "<Figure size 576x360 with 1 Axes>"
            ],
            "image/png": "[encoded data removed]"
          },
          "metadata": {
            "needs_background": "light"
          }
        }
      ]
    },
    {
      "cell_type": "code",
      "source": [],
      "metadata": {
        "id": "XFHcXYfzWlKk"
      },
      "execution_count": null,
      "outputs": []
    }
  ]
}